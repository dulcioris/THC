{
  "nbformat": 4,
  "nbformat_minor": 0,
  "metadata": {
    "colab": {
      "provenance": [],
      "authorship_tag": "ABX9TyNmsIOjA919erEoH4AVGUuK",
      "include_colab_link": true
    },
    "kernelspec": {
      "name": "python3",
      "display_name": "Python 3"
    },
    "language_info": {
      "name": "python"
    }
  },
  "cells": [
    {
      "cell_type": "markdown",
      "metadata": {
        "id": "view-in-github",
        "colab_type": "text"
      },
      "source": [
        "<a href=\"https://colab.research.google.com/github/dulcioris/THC/blob/main/Reto%202.ipynb\" target=\"_parent\"><img src=\"https://colab.research.google.com/assets/colab-badge.svg\" alt=\"Open In Colab\"/></a>"
      ]
    },
    {
      "cell_type": "code",
      "source": [
        "\"\"\" (esto es un comentario)\n",
        "\n",
        "Reto #2: Conversión de unidades\n",
        "\n",
        "Mancilla Lara Dulce Jaqueline\n",
        "\n",
        "computation.ipynb\n",
        "\n",
        "\"\"\""
      ],
      "metadata": {
        "id": "gkhereV4f-OA"
      },
      "execution_count": null,
      "outputs": []
    },
    {
      "cell_type": "code",
      "execution_count": null,
      "metadata": {
        "colab": {
          "base_uri": "https://localhost:8080/"
        },
        "id": "yatuXdUQe89I",
        "outputId": "fb914e35-4313-4717-de64-306f64666a9b"
      },
      "outputs": [
        {
          "output_type": "stream",
          "name": "stdout",
          "text": [
            "Este es un programa que puede realizar las siguientes acciones convertir unidades de longitud, masa y tiempo \n",
            "entre el Sistema Internacional de Unidades (SI) y el Sistema Inglés: \n",
            " 1. Convertir unidades de longitud. \n",
            " 2. Convertir unidades de masa. \n",
            " 3. Convertir unidades de tiempo. \n",
            " 4. Salir del programa.\n"
          ]
        }
      ],
      "source": [
        "#primero agregamos el menú que contiene el tipo de unidades a convertir\n",
        "print(\"Este es un programa que puede realizar las siguientes acciones convertir unidades de longitud, masa y tiempo \\nentre el Sistema Internacional de Unidades (SI) y el Sistema Inglés: \\n 1. Convertir unidades de longitud. \\n 2. Convertir unidades de masa. \\n 3. Convertir unidades de tiempo. \\n 4. Salir del programa.\")\n",
        "op=int(input(\"Elige la opción que deseas realizar: \"))#le pedimos al usuario la primera interacción\n",
        "if op==1:\n",
        "  print(\"Convertiremos unidades de longitud\")\n",
        "  dir=int(input(\"Podemos convertir de las siguientes maneras: \\n 1) Del Sistema Internacional al Sistema Inglés \\n 2) Del Sistema Inglés al sistema Internacional \\n ¿De qué manera quieres hacer la conversión? \"))\n",
        "  if dir==1:\n",
        "    con=int(input(\"Tenemos las siguientes opciones: \\n 1. De metros a pies \\n 2. De kilómetros a millas \\n ¿Qué conversión deseas hacer?\"))\n",
        "    if con==1:\n",
        "      m=int(input(\"Coloca los metros que deseas convertir a pies: \"))#el int nos indica que estamos hablando de números y no de carácteres cualquiera\n",
        "      pie=m*3.281\n",
        "      print(f\"{m} metros equivalen a {pie} pies\")#print f nos ayuda a imprimir valores que genera la computadora\n",
        "    if con==2:\n",
        "      k=int(input(\"Coloca los kilómetros que deseas convertir a millas: \"))\n",
        "      millas=k/1.609\n",
        "      print(f\"{k} kilómetros equivalen a {millas} millas\")\n",
        "    else:\n",
        "      print(\"La opción no es válida, puedes elegir 1 o 2\") #por si agregan algún carácter inválido\n",
        "  if dir==2:\n",
        "    conb=int(input(\"Tenemos las siguientes opciones: \\n 1. De pies a metros \\n 2. De millas a kilómetros \\n ¿Qué conversión deseas hacer?\"))\n",
        "    if conb==1:\n",
        "      p=int(input(\"Coloca los pies que deseas convertir a metros: \"))\n",
        "      me=p/3.281\n",
        "      print(f\"{p} pies equivalen a {me} metros\")\n",
        "    if conb==2:\n",
        "      mi=int(input(\"Coloca las millas que deseas convertir a kilómetros: \"))\n",
        "      kil=mi*1.609\n",
        "      print(f\"{mi} millas equivalen a {kil} kilómetros\")\n",
        "    else:\n",
        "      print(\"La opción no es válida, puedes elegir 1 o 2\")\n",
        "  else:\n",
        "    print(\"La opción no es válida, puedes elegir 1 o 2\")\n",
        "if op==2: #segundo tipo de conversión de unidades\n",
        "  print(\"Convertiremos unidades de masa\")\n",
        "  dir=int(input(\"Podemos convertir de las siguientes maneras: \\n 1) Del Sistema Internacional al Sistema Inglés \\n 2) Del Sistema Inglés al sistema Internacional \\n ¿De qué manera quieres hacer la conversión? \"))\n",
        "  if dir==1:\n",
        "    con=int(input(\"Tenemos las siguientes opciones: \\n 1. De gramos a onzas \\n 2. De kilogramos a libras \\n ¿Qué conversión deseas hacer?\"))\n",
        "    if con==1:\n",
        "      g=int(input(\"Coloca los gramos que deseas convertir a onzas: \"))\n",
        "      onzas=g/28.35\n",
        "      print(f\"{g} gramos equivalen a {onzas} onzas\")\n",
        "    if con==2:\n",
        "      kg=int(input(\"Coloca los kilogramos que deseas convertir a libras: \"))\n",
        "      libras=kg*2.205\n",
        "      print(f\"{kg} kilogramos equivalen a {libras} libras\")\n",
        "    else:\n",
        "      print(\"La opción no es válida, puedes elegir 1 o 2\")\n",
        "  if dir==2:\n",
        "    conb=int(input(\"Tenemos las siguientes opciones: \\n 1. De onzas a gramos \\n 2. De millas a kilómetros \\n ¿Qué conversión deseas hacer?\"))\n",
        "    if conb==1:\n",
        "      o=int(input(\"Coloca las onzas que deseas convertir a gramos: \"))\n",
        "      gr=o*28.35\n",
        "      print(f\"{o} onzas equivalen a {gr} gramos\")\n",
        "    if conb==2:\n",
        "      l=int(input(\"Coloca las libras que deseas convertir a kilogramos: \"))\n",
        "      kgr=l/2.205\n",
        "      print(f\"{l} libras equivalen a {kgr} kilogramos\")\n",
        "    else:\n",
        "      print(\"La opción no es válida, puedes elegir 1 o 2\")\n",
        "if op==3:\n",
        "  print(\"Convertiremos unidades de tiempo\")\n",
        "  con=int(input(\"Tenemos las siguientes opciones: \\n 1. De días a segundos \\n 2. De segundos a horas \\n 3. De semanas a minutos \\n 4. De quincenas a segundos \\n ¿Qué conversión deseas hacer?\"))\n",
        "  if con==1:\n",
        "    print(\"Convertiremos de días a segundos\")\n",
        "    d=int(input(\"Coloca la cantidad de días a convertir: \"))\n",
        "    s=d*24*60*60\n",
        "    print(f\"{d} días equivalen a {s} segundos\")\n",
        "  if con==2:\n",
        "    print(\"Convertiremos de segundos a horas\")\n",
        "    se=int(input(\"Coloca la cantidad de segundos a convertir: \"))\n",
        "    h=se/3600\n",
        "    print(f\"{se} segundos equivalen a {h} horas\")\n",
        "  if con==3:\n",
        "    print(\"Convertiremos de semanas a minutos\")\n",
        "    sem=int(input(\"Coloca la cantidad de semanas a convertir: \"))\n",
        "    min=sem*7*24*60 #agregamos la fórmula para que la computadora calcule el valor ella misma\n",
        "    print(f\"{sem} semanas equivalen a {min} minutos\")\n",
        "  if con==4:\n",
        "    print(\"Convertiremos de quincenas a segundos\")\n",
        "    q=int(input(\"Coloca la cantidad de quincenas a convertir: \"))\n",
        "    seg=q*15*24*60*60\n",
        "    print(f\"{q} quincenas equivalen a {seg} segundos \")"
      ]
    }
  ]
}