{
  "nbformat": 4,
  "nbformat_minor": 0,
  "metadata": {
    "colab": {
      "provenance": [],
      "authorship_tag": "ABX9TyMfSUnsGMgm/hCFXrNuTeZ1",
      "include_colab_link": true
    },
    "kernelspec": {
      "name": "python3",
      "display_name": "Python 3"
    },
    "language_info": {
      "name": "python"
    }
  },
  "cells": [
    {
      "cell_type": "markdown",
      "metadata": {
        "id": "view-in-github",
        "colab_type": "text"
      },
      "source": [
        "<a href=\"https://colab.research.google.com/github/dulcioris/THC/blob/main/Tarea_6.ipynb\" target=\"_parent\"><img src=\"https://colab.research.google.com/assets/colab-badge.svg\" alt=\"Open In Colab\"/></a>"
      ]
    },
    {
      "cell_type": "code",
      "execution_count": 2,
      "metadata": {
        "colab": {
          "base_uri": "https://localhost:8080/",
          "height": 35
        },
        "id": "xXGP7WL_DiLB",
        "outputId": "e7720a37-01cc-45cc-df20-d9de375d92ad"
      },
      "outputs": [
        {
          "output_type": "execute_result",
          "data": {
            "text/plain": [
              "' \\n\\nTarea 6\\n\\nMancilla Lara Dulce Jaqueline\\n\\ncomputation.ipynb\\n\\n'"
            ],
            "application/vnd.google.colaboratory.intrinsic+json": {
              "type": "string"
            }
          },
          "metadata": {},
          "execution_count": 2
        }
      ],
      "source": [
        "\"\"\"\n",
        "\n",
        "Tarea 6\n",
        "\n",
        "Mancilla Lara Dulce Jaqueline\n",
        "\n",
        "computation.ipynb\n",
        "\n",
        "\"\"\""
      ]
    },
    {
      "cell_type": "code",
      "source": [
        "print(\"Dados dos vectores:\")"
      ],
      "metadata": {
        "colab": {
          "base_uri": "https://localhost:8080/"
        },
        "id": "vlGrWTK8D8Bl",
        "outputId": "0bf723e6-4fcd-4ac4-ee1b-3c8dcc05d8da"
      },
      "execution_count": 1,
      "outputs": [
        {
          "output_type": "stream",
          "name": "stdout",
          "text": [
            "Dados dos vectores:\n"
          ]
        }
      ]
    },
    {
      "cell_type": "code",
      "source": [
        "########################## PRIMER EJERCICIO #############################################################################################\n",
        "print(\"El Producto de los vectores\")"
      ],
      "metadata": {
        "colab": {
          "base_uri": "https://localhost:8080/"
        },
        "id": "UE3VEh3gDvUA",
        "outputId": "b2cb0381-b4c5-40bd-92a4-4691faad92df"
      },
      "execution_count": 3,
      "outputs": [
        {
          "output_type": "stream",
          "name": "stdout",
          "text": [
            "El Producto de los vectores\n"
          ]
        }
      ]
    },
    {
      "cell_type": "code",
      "source": [
        "a=[1,2,3]\n",
        "b=[4,5,6]\n",
        "c = []\n",
        "if len(a) == len(b):\n",
        "    for i in range(len(a)):\n",
        "        c.append(a[i] * b[i])\n",
        "    print(f\"El resultado de la multiplicación es: {c}\")\n",
        "else:\n",
        "    print(\"No se puede realizar la multiplicación\")"
      ],
      "metadata": {
        "colab": {
          "base_uri": "https://localhost:8080/"
        },
        "id": "nuo_6NA4EUo4",
        "outputId": "651b614e-ebe6-44d9-b7f9-88f46736d06d"
      },
      "execution_count": 25,
      "outputs": [
        {
          "output_type": "stream",
          "name": "stdout",
          "text": [
            "El resultado de la multiplicación es: [4, 10, 18]\n"
          ]
        }
      ]
    },
    {
      "cell_type": "code",
      "source": [
        "########################## SEGUNDO EJERCICIO #############################################################################################\n",
        "print(\"La potencia de cada vector\")"
      ],
      "metadata": {
        "colab": {
          "base_uri": "https://localhost:8080/"
        },
        "id": "_NxWLBMXFly3",
        "outputId": "c0926dcc-ee7b-4608-b710-a0f2a69b8d5d"
      },
      "execution_count": 19,
      "outputs": [
        {
          "output_type": "stream",
          "name": "stdout",
          "text": [
            "La potencia de cada vector\n"
          ]
        }
      ]
    },
    {
      "cell_type": "code",
      "source": [
        "a=[1,2,3]\n",
        "for i in range(len(a)):\n",
        "  a[i] = a[i] ** 3\n",
        "print(f\"El resultado de potenciar al cubo es: {a}\")"
      ],
      "metadata": {
        "colab": {
          "base_uri": "https://localhost:8080/"
        },
        "id": "-5TvyR4BFzkS",
        "outputId": "aa96bc69-ca28-4d1e-92ae-7c628a3714a2"
      },
      "execution_count": 26,
      "outputs": [
        {
          "output_type": "stream",
          "name": "stdout",
          "text": [
            "El resultado de potenciar al cubo es: [1, 8, 27]\n"
          ]
        }
      ]
    },
    {
      "cell_type": "code",
      "source": [
        "########################## TERCER EJERCICIO #############################################################################################\n",
        "print(\"Producto escalar\")"
      ],
      "metadata": {
        "colab": {
          "base_uri": "https://localhost:8080/"
        },
        "id": "_p4x_YFsGQ-5",
        "outputId": "0326a675-b68a-4f50-f21e-2f4ea4fbdfc4"
      },
      "execution_count": 18,
      "outputs": [
        {
          "output_type": "stream",
          "name": "stdout",
          "text": [
            "Producto escalar\n"
          ]
        }
      ]
    },
    {
      "cell_type": "code",
      "source": [
        "a=[1,2,3]\n",
        "b=[4,5,6]\n",
        "pp = 0.0\n",
        "\n",
        "for i in range(len(a)):\n",
        "    pp += a[i] * b[i]\n",
        "print(f\"El resultado del producto escalar es: {pp}\")"
      ],
      "metadata": {
        "colab": {
          "base_uri": "https://localhost:8080/"
        },
        "id": "uf7bNuMIGivL",
        "outputId": "844d77b6-a5d0-459d-aa17-b655c6ca684f"
      },
      "execution_count": 23,
      "outputs": [
        {
          "output_type": "stream",
          "name": "stdout",
          "text": [
            "El resultado del producto escalar es 32.0\n"
          ]
        }
      ]
    }
  ]
}