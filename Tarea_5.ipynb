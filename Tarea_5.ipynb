{
  "nbformat": 4,
  "nbformat_minor": 0,
  "metadata": {
    "colab": {
      "provenance": [],
      "authorship_tag": "ABX9TyNN2suO/Q4MkmMRFDxt6bY+",
      "include_colab_link": true
    },
    "kernelspec": {
      "name": "python3",
      "display_name": "Python 3"
    },
    "language_info": {
      "name": "python"
    }
  },
  "cells": [
    {
      "cell_type": "markdown",
      "metadata": {
        "id": "view-in-github",
        "colab_type": "text"
      },
      "source": [
        "<a href=\"https://colab.research.google.com/github/dulcioris/THC/blob/main/Tarea_5.ipynb\" target=\"_parent\"><img src=\"https://colab.research.google.com/assets/colab-badge.svg\" alt=\"Open In Colab\"/></a>"
      ]
    },
    {
      "cell_type": "code",
      "execution_count": 4,
      "metadata": {
        "id": "lF3ZAPpU0XNc",
        "colab": {
          "base_uri": "https://localhost:8080/",
          "height": 35
        },
        "outputId": "93518a6b-3a8b-44ed-e90e-8ff021683254"
      },
      "outputs": [
        {
          "output_type": "execute_result",
          "data": {
            "text/plain": [
              "' (esto es un comentario)\\n\\nTarea 5\\n\\nMancilla Lara Dulce Jaqueline\\n\\ncomputation.ipynb\\n\\n'"
            ],
            "application/vnd.google.colaboratory.intrinsic+json": {
              "type": "string"
            }
          },
          "metadata": {},
          "execution_count": 4
        }
      ],
      "source": [
        "\"\"\" (esto es un comentario)\n",
        "\n",
        "Tarea 5\n",
        "\n",
        "Mancilla Lara Dulce Jaqueline\n",
        "\n",
        "computation.ipynb\n",
        "\n",
        "\"\"\""
      ]
    },
    {
      "cell_type": "code",
      "source": [
        "########################## PRIMER EJERCICIO #############################################################################################\n",
        "\n",
        "print(\"1. Declarar una lista con 5 números. Posteriormente pedirle al usuario que ingrese 5 números los cuales se deberán guardar en la lista. \\nFinalmente, obtenga el promedio de los valores en la lista. \")"
      ],
      "metadata": {
        "colab": {
          "base_uri": "https://localhost:8080/"
        },
        "id": "XDjO39rS4KpA",
        "outputId": "720bdf30-3d39-4c7f-ac98-60c873d5367e"
      },
      "execution_count": 22,
      "outputs": [
        {
          "output_type": "stream",
          "name": "stdout",
          "text": [
            "1. Declarar una lista con 5 números. Posteriormente pedirle al usuario que ingrese 5 números los cuales se deberán guardar en la lista. \n",
            "Finalmente, obtenga el promedio de los valores en la lista. \n"
          ]
        }
      ]
    },
    {
      "cell_type": "code",
      "source": [
        "Lista=list(range(1,6))\n",
        "for i in range(5):\n",
        "    Lista.append(float(input(\"Ingrese un número \\n\")))\n",
        "prom=0.0\n",
        "for i in range(len(Lista)):\n",
        "    prom+=Lista[i]\n",
        "prom/=len(Lista)\n",
        "print(f\"El promedio es {prom}\")"
      ],
      "metadata": {
        "id": "8dzm1oRr0tem"
      },
      "execution_count": null,
      "outputs": []
    },
    {
      "cell_type": "code",
      "source": [
        "########################## SEGUNDO EJERCICIO #############################################################################################\n",
        "print(\"2. Escribe un programa que encuentre el valor máximo y mínimo en una lista de números.\")"
      ],
      "metadata": {
        "id": "mTtgJN5eCBOl"
      },
      "execution_count": null,
      "outputs": []
    },
    {
      "cell_type": "code",
      "source": [
        "A=[8,2,3,5,6]\n",
        "min=9999999999999999\n",
        "max=-9999999999999999\n",
        "for i in range(len(A)):\n",
        "    if A[i]<min:\n",
        "      min=A[i]\n",
        "    if A[i]>max:\n",
        "      max=A[i]\n",
        "\n",
        "print(\"El mínimo es:\")\n",
        "print(min)\n",
        "print(\"El máximo es:\")\n",
        "print(max)"
      ],
      "metadata": {
        "colab": {
          "base_uri": "https://localhost:8080/"
        },
        "id": "n29ZPzuOCMq0",
        "outputId": "62460fc5-d5db-4b57-bc88-d268aa690ea5"
      },
      "execution_count": 44,
      "outputs": [
        {
          "output_type": "stream",
          "name": "stdout",
          "text": [
            "El mínimo es:\n",
            "2\n",
            "El máximo es:\n",
            "8\n"
          ]
        }
      ]
    },
    {
      "cell_type": "code",
      "source": [
        "########################## TERCER EJERCICIO #############################################################################################\n",
        "print(\"Dada una lista de números, crea dos listas separadas: una para números pares y otra para números impares\")"
      ],
      "metadata": {
        "colab": {
          "base_uri": "https://localhost:8080/"
        },
        "id": "I-ITRhglCnIQ",
        "outputId": "a45c51e9-6c8a-4503-caee-fb381d88ec60"
      },
      "execution_count": 45,
      "outputs": [
        {
          "output_type": "stream",
          "name": "stdout",
          "text": [
            "Dada una lista de números, crea dos listas separadas: una para números pares y otra para números impares\n"
          ]
        }
      ]
    },
    {
      "cell_type": "code",
      "source": [
        "Numeros = list(range(1, 10))\n",
        "Pares = []\n",
        "Impares = []\n",
        "\n",
        "for iEle in Numeros:\n",
        "    if iEle % 2 == 0:\n",
        "        Pares.append(iEle)\n",
        "    else:\n",
        "        Impares.append(iEle)\n",
        "\n",
        "print(f\"La lista de números pares es {Pares} \\n\")\n",
        "print(f\"La lista de números impares es {Impares} \\n\")"
      ],
      "metadata": {
        "colab": {
          "base_uri": "https://localhost:8080/"
        },
        "id": "huiztarTCyWE",
        "outputId": "d3353343-c60b-479c-93d2-fadbf467d3d4"
      },
      "execution_count": 46,
      "outputs": [
        {
          "output_type": "stream",
          "name": "stdout",
          "text": [
            "La lista de números pares es [2, 4, 6, 8] \n",
            "\n",
            "La lista de números impares es [1, 3, 5, 7, 9] \n",
            "\n"
          ]
        }
      ]
    }
  ]
}