{
  "nbformat": 4,
  "nbformat_minor": 0,
  "metadata": {
    "colab": {
      "provenance": [],
      "include_colab_link": true
    },
    "kernelspec": {
      "name": "python3",
      "display_name": "Python 3"
    },
    "language_info": {
      "name": "python"
    }
  },
  "cells": [
    {
      "cell_type": "markdown",
      "metadata": {
        "id": "view-in-github",
        "colab_type": "text"
      },
      "source": [
        "<a href=\"https://colab.research.google.com/github/dulcioris/THC/blob/main/TareaE.ipynb\" target=\"_parent\"><img src=\"https://colab.research.google.com/assets/colab-badge.svg\" alt=\"Open In Colab\"/></a>"
      ]
    },
    {
      "cell_type": "code",
      "execution_count": null,
      "metadata": {
        "id": "SY2fpXTzPXXE",
        "colab": {
          "base_uri": "https://localhost:8080/",
          "height": 35
        },
        "outputId": "204960cb-0a25-44fc-a20f-188dbd2c63df"
      },
      "outputs": [
        {
          "output_type": "execute_result",
          "data": {
            "text/plain": [
              "'\\nTarea\\n\\nMancilla Lara Dulce Jaqueline\\nPelaez Ventura Rocio\\n\\ncomputation . ipynb\\n'"
            ],
            "application/vnd.google.colaboratory.intrinsic+json": {
              "type": "string"
            }
          },
          "metadata": {},
          "execution_count": 68
        }
      ],
      "source": [
        "\"\"\"\n",
        "Tarea\n",
        "\n",
        "Mancilla Lara Dulce Jaqueline\n",
        "Pelaez Ventura Rocio\n",
        "\n",
        "computation . ipynb\n",
        "\"\"\""
      ]
    },
    {
      "cell_type": "markdown",
      "source": [
        "**SUMA DE MATRICES RECTÁNGULARES**"
      ],
      "metadata": {
        "id": "-Ey0N4GTRKVy"
      }
    },
    {
      "cell_type": "code",
      "source": [
        "A= [[1,2,3],[4,5,6],[7,8,9]]\n",
        "B= [[20,21,22],[45,46,47],[51,52,55]]\n",
        "for i in range(len(A)):\n",
        "  print(\"[\", A[i][0]+B[i][0], A[i][1]+B[i][1],A[i][2]+B[i][2],\"]\")\n",
        "\n"
      ],
      "metadata": {
        "colab": {
          "base_uri": "https://localhost:8080/"
        },
        "id": "fAutPpKgu3fQ",
        "outputId": "341da734-4c69-4507-8a4c-ab2a8df1a7f1"
      },
      "execution_count": null,
      "outputs": [
        {
          "output_type": "stream",
          "name": "stdout",
          "text": [
            "[ 21 23 25 ]\n",
            "[ 49 51 53 ]\n",
            "[ 58 60 64 ]\n"
          ]
        }
      ]
    },
    {
      "cell_type": "code",
      "source": [
        "B=[\n",
        "    [10, 11, 12],\n",
        "    [13, 14, 15],\n",
        "    [16, 17, 18],\n",
        "  ]\n",
        "A=[\n",
        "    [1, 2, 3],\n",
        "    [4, 5, 6],\n",
        "    [7, 8, 9],\n",
        "  ]\n",
        "for i in range(len(A)):\n",
        "  for j in range(len(A)):\n",
        "    print(A[i][j] + B[i][j])"
      ],
      "metadata": {
        "colab": {
          "base_uri": "https://localhost:8080/"
        },
        "id": "5znRYXRFBpWl",
        "outputId": "4cd64087-669d-40fe-b21c-bac72d1d62b6"
      },
      "execution_count": null,
      "outputs": [
        {
          "output_type": "stream",
          "name": "stdout",
          "text": [
            "11\n",
            "13\n",
            "15\n",
            "17\n",
            "19\n",
            "21\n",
            "23\n",
            "25\n",
            "27\n"
          ]
        }
      ]
    },
    {
      "cell_type": "markdown",
      "source": [
        "**PRODUCTO DE MATRICES RECTÁNGULARES ENTRADA POR ENTRADA**"
      ],
      "metadata": {
        "id": "3vQ_Q20KYj5Z"
      }
    },
    {
      "cell_type": "code",
      "source": [
        "A= [[1,2,3],[4,5,6],[7,8,9]]\n",
        "B= [[20,21,22],[45,46,47],[51,52,55]]\n",
        "for i in range(len(A)):\n",
        "  print(\"[\", A[i][0]*B[i][0], A[i][1]*B[i][1],A[i][2]*B[i][2],\"]\")"
      ],
      "metadata": {
        "colab": {
          "base_uri": "https://localhost:8080/"
        },
        "id": "tq4GObxCxJFi",
        "outputId": "0988aa06-18f1-4bc5-d9c2-2998122531b9"
      },
      "execution_count": null,
      "outputs": [
        {
          "output_type": "stream",
          "name": "stdout",
          "text": [
            "[ 20 42 66 ]\n",
            "[ 180 230 282 ]\n",
            "[ 357 416 495 ]\n"
          ]
        }
      ]
    },
    {
      "cell_type": "code",
      "source": [
        "B=[\n",
        "    [10, 11, 12],\n",
        "    [13, 14, 15],\n",
        "    [16, 17, 18],\n",
        "  ]\n",
        "A=[\n",
        "    [1, 2, 3],\n",
        "    [4, 5, 6],\n",
        "    [7, 8, 9],\n",
        "  ]\n",
        "\n",
        "for i in range(len(A)):\n",
        "  for j in range(len(A)):\n",
        "    print(A[i][j] * B[i][j])"
      ],
      "metadata": {
        "colab": {
          "base_uri": "https://localhost:8080/"
        },
        "id": "-Pzxc7K1CDW7",
        "outputId": "37dba381-6cf7-4444-c2df-0676d109b5b2"
      },
      "execution_count": null,
      "outputs": [
        {
          "output_type": "stream",
          "name": "stdout",
          "text": [
            "10\n",
            "22\n",
            "36\n",
            "52\n",
            "70\n",
            "90\n",
            "112\n",
            "136\n",
            "162\n"
          ]
        }
      ]
    },
    {
      "cell_type": "markdown",
      "source": [
        "**LA TRAZA DE UNA MATRIZ**"
      ],
      "metadata": {
        "id": "tmruU2H-0GkP"
      }
    },
    {
      "cell_type": "code",
      "source": [
        "A=[[1,2,3],[4,5,6],[7,8,9]]\n",
        "suma=0.0\n",
        "for i in range(len(A)):\n",
        "  for j in range(len(A)):\n",
        "    if i==j:\n",
        "      suma=suma+A[i][j]\n",
        "print(f\"La traza es {suma}\")"
      ],
      "metadata": {
        "id": "FRY_4PiY0MVm",
        "colab": {
          "base_uri": "https://localhost:8080/"
        },
        "outputId": "9c5e0569-2b2f-4c2f-98bd-df423df42685"
      },
      "execution_count": null,
      "outputs": [
        {
          "output_type": "stream",
          "name": "stdout",
          "text": [
            "La traza es 15.0\n"
          ]
        }
      ]
    },
    {
      "cell_type": "markdown",
      "source": [
        "**TRANSPUESTA**"
      ],
      "metadata": {
        "id": "xQ1X7r3QEN7B"
      }
    },
    {
      "cell_type": "code",
      "source": [
        "A=[[1,2,3],[4,5,6],[7,8,9]]\n",
        "for j in range(len(A)):\n",
        "  print(A[0][j], A[1][j], A[2][j])"
      ],
      "metadata": {
        "id": "7t9c4cjCEWOg",
        "colab": {
          "base_uri": "https://localhost:8080/"
        },
        "outputId": "4ebfa30e-0325-4198-9132-e93f513660bf"
      },
      "execution_count": null,
      "outputs": [
        {
          "output_type": "stream",
          "name": "stdout",
          "text": [
            "1 4 7\n",
            "2 5 8\n",
            "3 6 9\n"
          ]
        }
      ]
    },
    {
      "cell_type": "code",
      "source": [
        "A=[[1,2,3],[4,5,6],[7,8,9]]\n",
        "for i in range(len(A)):\n",
        "  for j in range(len(A)):\n",
        "    print(A[j][i])"
      ],
      "metadata": {
        "colab": {
          "base_uri": "https://localhost:8080/"
        },
        "id": "Su6khkKe_qjg",
        "outputId": "52c3b007-97f3-4dfc-ce98-087e300833a7"
      },
      "execution_count": null,
      "outputs": [
        {
          "output_type": "stream",
          "name": "stdout",
          "text": [
            "1\n",
            "4\n",
            "7\n",
            "2\n",
            "5\n",
            "8\n",
            "3\n",
            "6\n",
            "9\n"
          ]
        }
      ]
    },
    {
      "cell_type": "markdown",
      "source": [
        "**EL MÁXIMO Y EL MÍNIMO**"
      ],
      "metadata": {
        "id": "Im9Tt4dYbX9m"
      }
    },
    {
      "cell_type": "code",
      "source": [
        "A=[[8,2,3],[1,5,6],[9,7,4]]\n",
        "min=9999999999999999\n",
        "max=-9999999999999999\n",
        "for i in range(len(A)):\n",
        "  for j in range(len(A[i])):\n",
        "    if A[i][j]<min:\n",
        "      min=A[i][j]\n",
        "    if A[i][j]>max:\n",
        "      max=A[i][j]\n",
        "\n",
        "print(\"El mínimo es:\")\n",
        "print(min)\n",
        "print(\"El máximo es:\")\n",
        "print(max)"
      ],
      "metadata": {
        "id": "-xF849bi-w_B",
        "colab": {
          "base_uri": "https://localhost:8080/"
        },
        "outputId": "b22bd15b-d8c3-449c-a3c3-297d0bd1e255"
      },
      "execution_count": null,
      "outputs": [
        {
          "output_type": "stream",
          "name": "stdout",
          "text": [
            "El mínimo es:\n",
            "1\n",
            "El máximo es:\n",
            "9\n"
          ]
        }
      ]
    },
    {
      "cell_type": "markdown",
      "source": [
        "**LA SUMA DEL CUADRADO**"
      ],
      "metadata": {
        "id": "GSZ7BOSj6O2e"
      }
    },
    {
      "cell_type": "code",
      "source": [
        "suma= 0.0\n",
        "for i in range(len(pot)):\n",
        "  for j in range(len(pot)):\n",
        "    suma=suma+pot[i][j]\n",
        "print(f\"La suma es {suma}\")"
      ],
      "metadata": {
        "id": "93MPRH1bzJBE",
        "colab": {
          "base_uri": "https://localhost:8080/"
        },
        "outputId": "f3ed8cb8-4161-4b39-f5b2-ec0e94cf436f"
      },
      "execution_count": null,
      "outputs": [
        {
          "output_type": "stream",
          "name": "stdout",
          "text": [
            "La suma es 285.0\n"
          ]
        }
      ]
    },
    {
      "cell_type": "markdown",
      "source": [
        "**POTENCIA DE MATRICES RECTÁNGULARES**"
      ],
      "metadata": {
        "id": "AOHcI8dgaJyh"
      }
    },
    {
      "cell_type": "code",
      "source": [
        "A= [[1,2,3],[4,5,6],[7,8,9]]\n",
        "n= int(input(\"Inserte el número al que desea elevar la matriz:\" ))\n",
        "for i in range(len(A)):\n",
        "  print(\"[\", A[i][0]**n, A[i][1]**n,A[i][2]**n,\"]\")"
      ],
      "metadata": {
        "id": "48kaH2a8xQHh",
        "colab": {
          "base_uri": "https://localhost:8080/"
        },
        "outputId": "318e31aa-1ebc-4639-928e-25a77415b5d5"
      },
      "execution_count": 69,
      "outputs": [
        {
          "output_type": "stream",
          "name": "stdout",
          "text": [
            "Inserte el número al que desea elevar la matriz:2\n",
            "[ 1 4 9 ]\n",
            "[ 16 25 36 ]\n",
            "[ 49 64 81 ]\n"
          ]
        }
      ]
    },
    {
      "cell_type": "code",
      "source": [
        "A= [[1,2,3],[4,5,6],[7,8,9]]\n",
        "n= int(input(\"Inserte el número al que desea elevar la matriz:\" ))\n",
        "for i in range(len(A)):\n",
        "  for j in range(len(A)):\n",
        "    print(A[i][j]**n)"
      ],
      "metadata": {
        "colab": {
          "base_uri": "https://localhost:8080/"
        },
        "id": "MzqbDpB0CWOE",
        "outputId": "0ee4df69-4499-43c3-cfe9-ea389e165430"
      },
      "execution_count": null,
      "outputs": [
        {
          "output_type": "stream",
          "name": "stdout",
          "text": [
            "Inserte el número al que desea elevar la matriz:2\n",
            "1\n",
            "4\n",
            "9\n",
            "16\n",
            "25\n",
            "36\n",
            "49\n",
            "64\n",
            "81\n"
          ]
        }
      ]
    }
  ]
}